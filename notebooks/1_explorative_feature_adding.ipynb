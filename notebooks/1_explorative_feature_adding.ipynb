{
 "cells": [
  {
   "cell_type": "code",
   "execution_count": 10,
   "metadata": {},
   "outputs": [
    {
     "name": "stdout",
     "output_type": "stream",
     "text": [
      "Feature Adding #1:\n",
      "Add average rating, rating count for each movie:\n",
      "   movie_id                               title  \\\n",
      "0         1                    Toy Story (1995)   \n",
      "1         2                      Jumanji (1995)   \n",
      "2         3             Grumpier Old Men (1995)   \n",
      "3         4            Waiting to Exhale (1995)   \n",
      "4         5  Father of the Bride Part II (1995)   \n",
      "\n",
      "                                        genres  movie_year  avg_rating  \\\n",
      "0  Adventure|Animation|Children|Comedy|Fantasy        1995    3.928769   \n",
      "1                   Adventure|Children|Fantasy        1995    3.208070   \n",
      "2                               Comedy|Romance        1995    3.150385   \n",
      "3                         Comedy|Drama|Romance        1995    2.860544   \n",
      "4                                       Comedy        1995    3.077435   \n",
      "\n",
      "   rating_cnt  \n",
      "0     26449.0  \n",
      "1     12032.0  \n",
      "2      7790.0  \n",
      "3      1764.0  \n",
      "4      7135.0  \n"
     ]
    }
   ],
   "source": [
    "import pandas as pd\n",
    "print \"Feature Adding #1:\\nAdd average rating, rating count for each movie:\"\n",
    "df = pd.read_csv(\"../data/interim/movies_with_ratings.csv\")\n",
    "print df.head()"
   ]
  },
  {
   "cell_type": "code",
   "execution_count": 9,
   "metadata": {},
   "outputs": [
    {
     "name": "stdout",
     "output_type": "stream",
     "text": [
      "Feature Adding #2:\n",
      "Add tag frequency for every tag(how many times the tag appears in the entire dataset):\n",
      "   user_id  movie_id              tag          ts     ts_date  ts_year  \\\n",
      "0       15      4973       excellent!  1215184630  2008-07-04     2008   \n",
      "1       20      1747         politics  1188263867  2007-08-28     2007   \n",
      "2       20      1747           satire  1188263867  2007-08-28     2007   \n",
      "3       20      2424  chick flick 212  1188263835  2007-08-28     2007   \n",
      "4       20      2424            hanks  1188263835  2007-08-28     2007   \n",
      "\n",
      "   ts_month  ts_day  tag_frq  \n",
      "0         7       4        7  \n",
      "1         8      28      170  \n",
      "2         8      28      120  \n",
      "3         8      28        3  \n",
      "4         8      28        1  \n"
     ]
    }
   ],
   "source": [
    "print \"Feature Adding #2:\\nAdd tag frequency for every tag(how many times the tag appears in the entire dataset):\"\n",
    "df = pd.read_csv(\"../data/interim/tags_with_frq.csv\")\n",
    "print df.head()"
   ]
  },
  {
   "cell_type": "code",
   "execution_count": 11,
   "metadata": {},
   "outputs": [
    {
     "name": "stdout",
     "output_type": "stream",
     "text": [
      "Feature Adding #3:\n",
      "Add number of tags for each movie:\n",
      "   movie_id                               title  \\\n",
      "0         1                    Toy Story (1995)   \n",
      "1         2                      Jumanji (1995)   \n",
      "2         3             Grumpier Old Men (1995)   \n",
      "3         4            Waiting to Exhale (1995)   \n",
      "4         5  Father of the Bride Part II (1995)   \n",
      "\n",
      "                                        genres  movie_year  avg_rating  \\\n",
      "0  Adventure|Animation|Children|Comedy|Fantasy        1995    3.928769   \n",
      "1                   Adventure|Children|Fantasy        1995    3.208070   \n",
      "2                               Comedy|Romance        1995    3.150385   \n",
      "3                         Comedy|Drama|Romance        1995    2.860544   \n",
      "4                                       Comedy        1995    3.077435   \n",
      "\n",
      "   #_rating  #_tag  #_tag_distinct  avg_tag_frq  \n",
      "0     26449    140              66   115.692857  \n",
      "1     12032     39              24    77.487179  \n",
      "2      7790     12              10     7.000000  \n",
      "3      1764      1               1     1.000000  \n",
      "4      7135     18              12    45.888889  \n"
     ]
    }
   ],
   "source": [
    "print \"Feature Adding #3:\\nAdd number of tags for each movie:\"\n",
    "df = pd.read_csv(\"../data/interim/movies_with_tags.csv\")\n",
    "print df.head()"
   ]
  },
  {
   "cell_type": "code",
   "execution_count": 12,
   "metadata": {},
   "outputs": [
    {
     "name": "stdout",
     "output_type": "stream",
     "text": [
      "Feature Adding #4:\n",
      "Add reliability of ratings and tags:\n",
      "   movie_id                               title  \\\n",
      "0         1                    Toy Story (1995)   \n",
      "1         2                      Jumanji (1995)   \n",
      "2         3             Grumpier Old Men (1995)   \n",
      "3         4            Waiting to Exhale (1995)   \n",
      "4         5  Father of the Bride Part II (1995)   \n",
      "\n",
      "                                        genres  movie_year  avg_rating  \\\n",
      "0  Adventure|Animation|Children|Comedy|Fantasy        1995    3.928769   \n",
      "1                   Adventure|Children|Fantasy        1995    3.208070   \n",
      "2                               Comedy|Romance        1995    3.150385   \n",
      "3                         Comedy|Drama|Romance        1995    2.860544   \n",
      "4                                       Comedy        1995    3.077435   \n",
      "\n",
      "   #_rating  rating_std  #_tag  #_tag_distinct  avg_tag_frq  \n",
      "0     26449    0.896315    140              66   115.692857  \n",
      "1     12032    0.951328     39              24    77.487179  \n",
      "2      7790    1.005159     12              10     7.000000  \n",
      "3      1764    1.087675      1               1     1.000000  \n",
      "4      7135    0.964899     18              12    45.888889  \n"
     ]
    }
   ],
   "source": [
    "print \"Feature Adding #4:\\nAdd reliability of ratings and tags(std of rating):\"\n",
    "df = pd.read_csv(\"../data/interim/movies_with_rating_urb.csv\")\n",
    "print df.head()"
   ]
  },
  {
   "cell_type": "code",
   "execution_count": 13,
   "metadata": {},
   "outputs": [
    {
     "name": "stdout",
     "output_type": "stream",
     "text": [
      "Feature Adding #5:\n",
      "Split and categorize genres:\n",
      "   movie_id                               title  \\\n",
      "0         1                    Toy Story (1995)   \n",
      "1         2                      Jumanji (1995)   \n",
      "2         3             Grumpier Old Men (1995)   \n",
      "3         4            Waiting to Exhale (1995)   \n",
      "4         5  Father of the Bride Part II (1995)   \n",
      "\n",
      "                                        genres  movie_year  avg_rating  \\\n",
      "0  Adventure|Animation|Children|Comedy|Fantasy        1995    3.928769   \n",
      "1                   Adventure|Children|Fantasy        1995    3.208070   \n",
      "2                               Comedy|Romance        1995    3.150385   \n",
      "3                         Comedy|Drama|Romance        1995    2.860544   \n",
      "4                                       Comedy        1995    3.077435   \n",
      "\n",
      "   #_rating  rating_std  #_tag  #_tag_distinct  avg_tag_frq  ...  genre_War  \\\n",
      "0     26449    0.896315    140              66   115.692857  ...          0   \n",
      "1     12032    0.951328     39              24    77.487179  ...          0   \n",
      "2      7790    1.005159     12              10     7.000000  ...          0   \n",
      "3      1764    1.087675      1               1     1.000000  ...          0   \n",
      "4      7135    0.964899     18              12    45.888889  ...          0   \n",
      "\n",
      "   genre_Western  genre_Children  genre_Action  genre_(no_genres_listed)  \\\n",
      "0              0               1             0                         0   \n",
      "1              0               1             0                         0   \n",
      "2              0               0             0                         0   \n",
      "3              0               0             0                         0   \n",
      "4              0               0             0                         0   \n",
      "\n",
      "   genre_Comedy  genre_Documentary  genre_Musical  genre_Thriller  \\\n",
      "0             1                  0              0               0   \n",
      "1             0                  0              0               0   \n",
      "2             1                  0              0               0   \n",
      "3             1                  0              0               0   \n",
      "4             1                  0              0               0   \n",
      "\n",
      "   genre_Adventure  \n",
      "0                1  \n",
      "1                1  \n",
      "2                0  \n",
      "3                0  \n",
      "4                0  \n",
      "\n",
      "[5 rows x 30 columns]\n"
     ]
    }
   ],
   "source": [
    "print \"Feature Adding #5:\\nSplit and categorize genres(like 'multi-hot' encoding):\"\n",
    "df = pd.read_csv(\"../data/interim/movies_with_genres_encoded.csv\")\n",
    "print df.head()"
   ]
  },
  {
   "cell_type": "code",
   "execution_count": 14,
   "metadata": {},
   "outputs": [
    {
     "name": "stdout",
     "output_type": "stream",
     "text": [
      "Feature Adding #6:\n",
      "Extract year from movie title:\n",
      "   movie_id                               title  \\\n",
      "0         1                    Toy Story (1995)   \n",
      "1         2                      Jumanji (1995)   \n",
      "2         3             Grumpier Old Men (1995)   \n",
      "3         4            Waiting to Exhale (1995)   \n",
      "4         5  Father of the Bride Part II (1995)   \n",
      "\n",
      "                                        genres  movie_year  \n",
      "0  Adventure|Animation|Children|Comedy|Fantasy        1995  \n",
      "1                   Adventure|Children|Fantasy        1995  \n",
      "2                               Comedy|Romance        1995  \n",
      "3                         Comedy|Drama|Romance        1995  \n",
      "4                                       Comedy        1995  \n"
     ]
    }
   ],
   "source": [
    "print \"Feature Adding #6:\\nExtract year from movie title:\"\n",
    "df = pd.read_csv(\"../data/interim/movies_with_years.csv\")\n",
    "print df.head()"
   ]
  },
  {
   "cell_type": "code",
   "execution_count": 16,
   "metadata": {},
   "outputs": [
    {
     "name": "stdout",
     "output_type": "stream",
     "text": [
      "Data preprocessing:\n",
      "Remove outliers(rating count smaller than 10) and standardize all numeric values:\n",
      "   movie_year  avg_rating  #_rating  rating_std     #_tag  #_tag_distinct  \\\n",
      "0    0.424444    1.318395  9.778165   -0.457183  6.523612        4.754374   \n",
      "1    0.424444    0.003569  4.230548   -0.105276  1.461029        1.351544   \n",
      "2    0.424444   -0.101670  2.598240    0.239073  0.107666        0.217267   \n",
      "3    0.424444   -0.630449  0.279454    0.766913 -0.443705       -0.511911   \n",
      "4    0.424444   -0.234758  2.346198   -0.018463  0.408413        0.379306   \n",
      "\n",
      "   avg_tag_frq  genre_Mystery  genre_Romance  genre_IMAX  ...  genre_War  \\\n",
      "0     0.328820      -0.228021      -0.437959   -0.051015  ...  -0.220098   \n",
      "1    -0.042845      -0.228021      -0.437959   -0.051015  ...  -0.220098   \n",
      "2    -0.728545      -0.228021       2.283320   -0.051015  ...  -0.220098   \n",
      "3    -0.786913      -0.228021       2.283320   -0.051015  ...  -0.220098   \n",
      "4    -0.350234      -0.228021      -0.437959   -0.051015  ...  -0.220098   \n",
      "\n",
      "   genre_Western  genre_Children  genre_Action  genre_(no_genres_listed)  \\\n",
      "0      -0.159864        4.255482     -0.410175                       0.0   \n",
      "1      -0.159864        4.255482     -0.410175                       0.0   \n",
      "2      -0.159864       -0.234991     -0.410175                       0.0   \n",
      "3      -0.159864       -0.234991     -0.410175                       0.0   \n",
      "4      -0.159864       -0.234991     -0.410175                       0.0   \n",
      "\n",
      "   genre_Comedy  genre_Documentary  genre_Musical  genre_Thriller  \\\n",
      "0      1.347926          -0.204334      -0.210057       -0.446851   \n",
      "1     -0.741880          -0.204334      -0.210057       -0.446851   \n",
      "2      1.347926          -0.204334      -0.210057       -0.446851   \n",
      "3      1.347926          -0.204334      -0.210057       -0.446851   \n",
      "4      1.347926          -0.204334      -0.210057       -0.446851   \n",
      "\n",
      "   genre_Adventure  \n",
      "0         3.008860  \n",
      "1         3.008860  \n",
      "2        -0.332352  \n",
      "3        -0.332352  \n",
      "4        -0.332352  \n",
      "\n",
      "[5 rows x 27 columns]\n"
     ]
    }
   ],
   "source": [
    "from sklearn.preprocessing import StandardScaler\n",
    "print \"Data preprocessing:\\nRemove outliers(rating count smaller than 10) and standardize all numeric values:\"\n",
    "movies = pd.read_csv('../data/processed/movies.csv')\n",
    "movies = movies[movies['#_rating'] > 10]\n",
    "columns_to_drop = [\"movie_id\", \"title\", \"genres\"]\n",
    "movies.drop(columns=columns_to_drop, inplace=True, axis=1)\n",
    "scaler = StandardScaler()\n",
    "scaled_features = scaler.fit_transform(movies.values)\n",
    "scaled_features_df = pd.DataFrame(scaled_features, index=movies.index, columns=movies.columns)\n",
    "print scaled_features_df.head()"
   ]
  }
 ],
 "metadata": {
  "kernelspec": {
   "display_name": "Python 2",
   "language": "python",
   "name": "python2"
  },
  "language_info": {
   "codemirror_mode": {
    "name": "ipython",
    "version": 2
   },
   "file_extension": ".py",
   "mimetype": "text/x-python",
   "name": "python",
   "nbconvert_exporter": "python",
   "pygments_lexer": "ipython2",
   "version": "2.7.10"
  }
 },
 "nbformat": 4,
 "nbformat_minor": 2
}
