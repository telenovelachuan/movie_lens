{
 "cells": [
  {
   "cell_type": "code",
   "execution_count": 6,
   "metadata": {},
   "outputs": [
    {
     "name": "stdout",
     "output_type": "stream",
     "text": [
      "Trained a KNeighborsClassifier with the number of neighbors set to 5.\n",
      "KNeighborsClassifier(algorithm='auto', leaf_size=30, metric='minkowski',\n",
      "           metric_params=None, n_jobs=None, n_neighbors=5, p=2,\n",
      "           weights='uniform')\n"
     ]
    }
   ],
   "source": [
    "from joblib import load\n",
    "print \"Trained a KNeighborsClassifier with the number of neighbors set to 5.\"\n",
    "kn_clf = load(\"../models/kneighbors.joblib\")\n",
    "print kn_clf"
   ]
  },
  {
   "cell_type": "code",
   "execution_count": 7,
   "metadata": {},
   "outputs": [
    {
     "name": "stdout",
     "output_type": "stream",
     "text": [
      "Use KNeighbors model to generate 5 movies as neighbors for recommendation.\n",
      "Similar movies to movie 'Broken Hearts Club. The (2000)'\n",
      "recommended movies by KNeighborsClassifier:\n",
      "[2689          Better Than Chocolate (1999)\n",
      "3152    Kestrel's Eye (Falkens öga) (1998)\n",
      "6826      In My Skin (Dans ma Peau) (2002)\n",
      "6151             Piglet's Big Movie (2003)\n",
      "6672     Song Remains the Same. The (1976)\n",
      "Name: title, dtype: object]\n"
     ]
    },
    {
     "name": "stderr",
     "output_type": "stream",
     "text": [
      "/Library/Frameworks/Python.framework/Versions/2.7/lib/python2.7/site-packages/ipykernel_launcher.py:6: FutureWarning: Method .as_matrix will be removed in a future version. Use .values instead.\n",
      "  \n"
     ]
    }
   ],
   "source": [
    "import pandas as pd\n",
    "movies = pd.read_csv('../data/processed/movies.csv')\n",
    "print \"Use KNeighbors model to generate 5 movies as neighbors for recommendation.\"\n",
    "print \"Similar movies to movie 'Broken Hearts Club. The (2000)'\"\n",
    "test_set = pd.read_csv(\"../data/processed/test_set.csv\")\n",
    "indices = kn_clf.kneighbors(X=[test_set.as_matrix()[0]], n_neighbors=5, return_distance=False)\n",
    "recommended_movies = []\n",
    "for r in indices:\n",
    "    recommended_movies.append(movies.iloc[r].title)\n",
    "print \"recommended movies by KNeighborsClassifier:\\n{}\".format(recommended_movies)"
   ]
  },
  {
   "cell_type": "code",
   "execution_count": 8,
   "metadata": {},
   "outputs": [
    {
     "name": "stdout",
     "output_type": "stream",
     "text": [
      "Similar movies to movie 'History Boys. The (2006)'\n",
      "recommended movies by KNeighborsClassifier:\n",
      "[2689          Better Than Chocolate (1999)\n",
      "3152    Kestrel's Eye (Falkens öga) (1998)\n",
      "6826      In My Skin (Dans ma Peau) (2002)\n",
      "6151             Piglet's Big Movie (2003)\n",
      "6672     Song Remains the Same. The (1976)\n",
      "Name: title, dtype: object]\n"
     ]
    },
    {
     "name": "stderr",
     "output_type": "stream",
     "text": [
      "/Library/Frameworks/Python.framework/Versions/2.7/lib/python2.7/site-packages/ipykernel_launcher.py:2: FutureWarning: Method .as_matrix will be removed in a future version. Use .values instead.\n",
      "  \n"
     ]
    }
   ],
   "source": [
    "print \"Similar movies to movie 'History Boys. The (2006)'\"\n",
    "indices = kn_clf.kneighbors(X=[test_set.as_matrix()[498]], n_neighbors=5, return_distance=False)\n",
    "recommended_movies = []\n",
    "for r in indices:\n",
    "    recommended_movies.append(movies.iloc[r].title)\n",
    "print \"recommended movies by KNeighborsClassifier:\\n{}\".format(recommended_movies)"
   ]
  },
  {
   "cell_type": "code",
   "execution_count": 9,
   "metadata": {},
   "outputs": [
    {
     "name": "stdout",
     "output_type": "stream",
     "text": [
      "Plot Silhouette score chart for different number of clusters.\n"
     ]
    },
    {
     "data": {
      "image/png": "[encoded data removed]",
      "text/plain": [
       "<Figure size 432x288 with 1 Axes>"
      ]
     },
     "metadata": {
      "needs_background": "light"
     },
     "output_type": "display_data"
    }
   ],
   "source": [
    "print \"Plot Silhouette score chart for different number of clusters.\"\n",
    "import matplotlib.pyplot as plt\n",
    "from sklearn.cluster import KMeans\n",
    "columns_to_drop = [\"movie_id\", \"title\", \"genres\"]\n",
    "movies.drop(columns=columns_to_drop, inplace=True, axis=1)\n",
    "\n",
    "silhouette_scores = []\n",
    "from sklearn.metrics import silhouette_score\n",
    "for i in range(20)[2:]:\n",
    "    km = KMeans(n_clusters=i)\n",
    "    km.fit_predict(movies)\n",
    "    silhouette_scores.append(silhouette_score(movies, km.labels_))\n",
    "plt.plot(silhouette_scores)\n",
    "plt.xticks(range(0, 19))\n",
    "plt.xlabel(\"# of clusters\")\n",
    "plt.ylabel(\"silhouette score\")\n",
    "plt.show()"
   ]
  },
  {
   "cell_type": "code",
   "execution_count": null,
   "metadata": {},
   "outputs": [
    {
     "name": "stdout",
     "output_type": "stream",
     "text": [
      "Plot Silhouette histogram...\n"
     ]
    }
   ],
   "source": [
    "print \"Plot Silhouette histogram...\"\n",
    "def plot_silhouette_histogram(X):\n",
    "    from sklearn.metrics import silhouette_samples\n",
    "    from matplotlib.ticker import FixedLocator, FixedFormatter\n",
    "    import matplotlib as mpl\n",
    "    import numpy as np\n",
    "\n",
    "    silhouette_scores = []\n",
    "    from sklearn.metrics import silhouette_score\n",
    "    for i in range(20)[2:]:\n",
    "        km = KMeans(n_clusters=i)\n",
    "        km.fit_predict(X)\n",
    "        silhouette_scores.append(silhouette_score(X, km.labels_))\n",
    "    print \"begin to plot silhouette histogram... silhouette_scores:{}\".format(silhouette_scores)\n",
    "\n",
    "    kmeans_per_k = [KMeans(n_clusters=k, random_state=42).fit(X)\n",
    "                    for k in range(1, 30)]\n",
    "    inertias = [model.inertia_ for model in kmeans_per_k]\n",
    "    plt.figure(figsize=(10, 5))\n",
    "\n",
    "    for k in (12, 13, 14, 15):\n",
    "        plt.subplot(2, 2, k - 11)\n",
    "\n",
    "        y_pred = kmeans_per_k[k - 1].labels_\n",
    "        silhouette_coefficients = silhouette_samples(X, y_pred)\n",
    "\n",
    "        padding = len(X) // 30\n",
    "        pos = padding\n",
    "        ticks = []\n",
    "        for i in range(k):\n",
    "            coeffs = silhouette_coefficients[y_pred == i]\n",
    "            coeffs.sort()\n",
    "\n",
    "            color = mpl.cm.Spectral(i / k)\n",
    "            plt.fill_betweenx(np.arange(pos, pos + len(coeffs)), 0, coeffs,\n",
    "                              facecolor=color, edgecolor=color, alpha=0.7)\n",
    "            ticks.append(pos + len(coeffs) // 2)\n",
    "            pos += len(coeffs) + padding\n",
    "\n",
    "        plt.gca().yaxis.set_major_locator(FixedLocator(ticks))\n",
    "        plt.gca().yaxis.set_major_formatter(FixedFormatter(range(k)))\n",
    "        if k in (12, 14):\n",
    "            plt.ylabel(\"Cluster\")\n",
    "\n",
    "        if k in (14, 15):\n",
    "            plt.gca().set_xticks([-0.1, 0, 0.2, 0.4, 0.6, 0.8, 1])\n",
    "            plt.xlabel(\"Silhouette Coefficient\")\n",
    "        else:\n",
    "            plt.tick_params(labelbottom=False)\n",
    "\n",
    "        plt.axvline(x=silhouette_scores[k - 2], color=\"red\", linestyle=\"--\")\n",
    "        plt.title(\"$k={}$\".format(k), fontsize=16)\n",
    "\n",
    "    plt.show()\n",
    "    \n",
    "plot_silhouette_histogram(movies)"
   ]
  },
  {
   "cell_type": "code",
   "execution_count": null,
   "metadata": {},
   "outputs": [],
   "source": []
  }
 ],
 "metadata": {
  "kernelspec": {
   "display_name": "Python 2",
   "language": "python",
   "name": "python2"
  },
  "language_info": {
   "codemirror_mode": {
    "name": "ipython",
    "version": 2
   },
   "file_extension": ".py",
   "mimetype": "text/x-python",
   "name": "python",
   "nbconvert_exporter": "python",
   "pygments_lexer": "ipython2",
   "version": "2.7.10"
  }
 },
 "nbformat": 4,
 "nbformat_minor": 2
}
