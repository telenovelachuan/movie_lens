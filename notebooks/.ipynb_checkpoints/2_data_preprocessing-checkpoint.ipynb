{
 "cells": [
  {
   "cell_type": "code",
   "execution_count": 2,
   "metadata": {},
   "outputs": [
    {
     "name": "stdout",
     "output_type": "stream",
     "text": [
      "Data preprocessing #1:\n",
      "Remove outliers(rating count smaller than 10):\n",
      "<class 'pandas.core.frame.DataFrame'>\n",
      "Int64Index: 9631 entries, 0 to 10664\n",
      "Data columns (total 30 columns):\n",
      "movie_id                    9631 non-null int64\n",
      "title                       9631 non-null object\n",
      "genres                      9631 non-null object\n",
      "movie_year                  9631 non-null int64\n",
      "avg_rating                  9631 non-null float64\n",
      "#_rating                    9631 non-null int64\n",
      "rating_std                  9631 non-null float64\n",
      "#_tag                       9631 non-null int64\n",
      "#_tag_distinct              9631 non-null int64\n",
      "avg_tag_frq                 9631 non-null float64\n",
      "genre_Mystery               9631 non-null int64\n",
      "genre_Romance               9631 non-null int64\n",
      "genre_IMAX                  9631 non-null int64\n",
      "genre_Sci-Fi                9631 non-null int64\n",
      "genre_Horror                9631 non-null int64\n",
      "genre_Film-Noir             9631 non-null int64\n",
      "genre_Crime                 9631 non-null int64\n",
      "genre_Drama                 9631 non-null int64\n",
      "genre_Fantasy               9631 non-null int64\n",
      "genre_Animation             9631 non-null int64\n",
      "genre_War                   9631 non-null int64\n",
      "genre_Western               9631 non-null int64\n",
      "genre_Children              9631 non-null int64\n",
      "genre_Action                9631 non-null int64\n",
      "genre_(no_genres_listed)    9631 non-null int64\n",
      "genre_Comedy                9631 non-null int64\n",
      "genre_Documentary           9631 non-null int64\n",
      "genre_Musical               9631 non-null int64\n",
      "genre_Thriller              9631 non-null int64\n",
      "genre_Adventure             9631 non-null int64\n",
      "dtypes: float64(3), int64(25), object(2)\n",
      "memory usage: 2.3+ MB\n",
      "None\n"
     ]
    }
   ],
   "source": [
    "import pandas as pd\n",
    "from sklearn.preprocessing import StandardScaler\n",
    "print \"Data preprocessing #1:\\nRemove outliers(rating count smaller than 10):\"\n",
    "movies = pd.read_csv('../data/processed/movies.csv')\n",
    "movies = movies[movies['#_rating'] > 10]\n",
    "print movies.info()"
   ]
  },
  {
   "cell_type": "code",
   "execution_count": 3,
   "metadata": {},
   "outputs": [
    {
     "name": "stdout",
     "output_type": "stream",
     "text": [
      "Data preprocessing #2:\n",
      "Standardize all numeric values:\n",
      "   movie_year  avg_rating  #_rating  rating_std     #_tag  #_tag_distinct  \\\n",
      "0    0.424444    1.318395  9.778165   -0.457183  6.523612        4.754374   \n",
      "1    0.424444    0.003569  4.230548   -0.105276  1.461029        1.351544   \n",
      "2    0.424444   -0.101670  2.598240    0.239073  0.107666        0.217267   \n",
      "3    0.424444   -0.630449  0.279454    0.766913 -0.443705       -0.511911   \n",
      "4    0.424444   -0.234758  2.346198   -0.018463  0.408413        0.379306   \n",
      "\n",
      "   avg_tag_frq  genre_Mystery  genre_Romance  genre_IMAX  ...  genre_War  \\\n",
      "0     0.328820      -0.228021      -0.437959   -0.051015  ...  -0.220098   \n",
      "1    -0.042845      -0.228021      -0.437959   -0.051015  ...  -0.220098   \n",
      "2    -0.728545      -0.228021       2.283320   -0.051015  ...  -0.220098   \n",
      "3    -0.786913      -0.228021       2.283320   -0.051015  ...  -0.220098   \n",
      "4    -0.350234      -0.228021      -0.437959   -0.051015  ...  -0.220098   \n",
      "\n",
      "   genre_Western  genre_Children  genre_Action  genre_(no_genres_listed)  \\\n",
      "0      -0.159864        4.255482     -0.410175                       0.0   \n",
      "1      -0.159864        4.255482     -0.410175                       0.0   \n",
      "2      -0.159864       -0.234991     -0.410175                       0.0   \n",
      "3      -0.159864       -0.234991     -0.410175                       0.0   \n",
      "4      -0.159864       -0.234991     -0.410175                       0.0   \n",
      "\n",
      "   genre_Comedy  genre_Documentary  genre_Musical  genre_Thriller  \\\n",
      "0      1.347926          -0.204334      -0.210057       -0.446851   \n",
      "1     -0.741880          -0.204334      -0.210057       -0.446851   \n",
      "2      1.347926          -0.204334      -0.210057       -0.446851   \n",
      "3      1.347926          -0.204334      -0.210057       -0.446851   \n",
      "4      1.347926          -0.204334      -0.210057       -0.446851   \n",
      "\n",
      "   genre_Adventure  \n",
      "0         3.008860  \n",
      "1         3.008860  \n",
      "2        -0.332352  \n",
      "3        -0.332352  \n",
      "4        -0.332352  \n",
      "\n",
      "[5 rows x 27 columns]\n"
     ]
    }
   ],
   "source": [
    "from sklearn.preprocessing import StandardScaler\n",
    "print \"Data preprocessing #2:\\nStandardize all numeric values:\"\n",
    "columns_to_drop = [\"movie_id\", \"title\", \"genres\"]\n",
    "movies.drop(columns=columns_to_drop, inplace=True, axis=1)\n",
    "scaler = StandardScaler()\n",
    "scaled_features = scaler.fit_transform(movies.values)\n",
    "scaled_features_df = pd.DataFrame(scaled_features, index=movies.index, columns=movies.columns)\n",
    "print scaled_features_df.head()"
   ]
  }
 ],
 "metadata": {
  "kernelspec": {
   "display_name": "Python 2",
   "language": "python",
   "name": "python2"
  },
  "language_info": {
   "codemirror_mode": {
    "name": "ipython",
    "version": 2
   },
   "file_extension": ".py",
   "mimetype": "text/x-python",
   "name": "python",
   "nbconvert_exporter": "python",
   "pygments_lexer": "ipython2",
   "version": "2.7.10"
  }
 },
 "nbformat": 4,
 "nbformat_minor": 2
}
