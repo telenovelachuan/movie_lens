{
 "cells": [
  {
   "cell_type": "code",
   "execution_count": 1,
   "metadata": {},
   "outputs": [
    {
     "name": "stdout",
     "output_type": "stream",
     "text": [
      "Trained a KNeighborsClassifier with the number of neighbors set to 5.\n",
      "KNeighborsClassifier(algorithm='auto', leaf_size=30, metric='minkowski',\n",
      "           metric_params=None, n_jobs=None, n_neighbors=5, p=2,\n",
      "           weights='uniform')\n"
     ]
    }
   ],
   "source": [
    "from joblib import load\n",
    "print \"Trained a KNeighborsClassifier with the number of neighbors set to 5.\"\n",
    "kn_clf = load(\"../models/kneighbors.joblib\")\n",
    "print kn_clf"
   ]
  },
  {
   "cell_type": "code",
   "execution_count": 13,
   "metadata": {},
   "outputs": [
    {
     "name": "stdout",
     "output_type": "stream",
     "text": [
      "Use KNeighbors model to generate 5 movies as neighbors for recommendation.\n",
      "Similar movies to movie 'Broken Hearts Club. The (2000)'\n",
      "recommended movies by KNeighborsClassifier:\n",
      "[2689          Better Than Chocolate (1999)\n",
      "3152    Kestrel's Eye (Falkens öga) (1998)\n",
      "6826      In My Skin (Dans ma Peau) (2002)\n",
      "6151             Piglet's Big Movie (2003)\n",
      "6672     Song Remains the Same. The (1976)\n",
      "Name: title, dtype: object]\n"
     ]
    },
    {
     "name": "stderr",
     "output_type": "stream",
     "text": [
      "/Library/Frameworks/Python.framework/Versions/2.7/lib/python2.7/site-packages/ipykernel_launcher.py:6: FutureWarning: Method .as_matrix will be removed in a future version. Use .values instead.\n",
      "  \n"
     ]
    }
   ],
   "source": [
    "import pandas as pd\n",
    "movies = pd.read_csv('../data/processed/movies.csv')\n",
    "print \"Use KNeighbors model to generate 5 movies as neighbors for recommendation.\"\n",
    "print \"Similar movies to movie 'Broken Hearts Club. The (2000)'\"\n",
    "test_set = pd.read_csv(\"../data/processed/test_set.csv\")\n",
    "indices = kn_clf.kneighbors(X=[test_set.as_matrix()[0]], n_neighbors=5, return_distance=False)\n",
    "recommended_movies = []\n",
    "for r in indices:\n",
    "    recommended_movies.append(movies.iloc[r].title)\n",
    "print \"recommended movies by KNeighborsClassifier:\\n{}\".format(recommended_movies)"
   ]
  },
  {
   "cell_type": "code",
   "execution_count": 12,
   "metadata": {},
   "outputs": [
    {
     "name": "stdout",
     "output_type": "stream",
     "text": [
      "Similar movies to movie 'History Boys. The (2006)'\n",
      "recommended movies by KNeighborsClassifier:\n",
      "[2689          Better Than Chocolate (1999)\n",
      "3152    Kestrel's Eye (Falkens öga) (1998)\n",
      "6826      In My Skin (Dans ma Peau) (2002)\n",
      "6151             Piglet's Big Movie (2003)\n",
      "6672     Song Remains the Same. The (1976)\n",
      "Name: title, dtype: object]\n"
     ]
    },
    {
     "name": "stderr",
     "output_type": "stream",
     "text": [
      "/Library/Frameworks/Python.framework/Versions/2.7/lib/python2.7/site-packages/ipykernel_launcher.py:2: FutureWarning: Method .as_matrix will be removed in a future version. Use .values instead.\n",
      "  \n"
     ]
    }
   ],
   "source": [
    "print \"Similar movies to movie 'History Boys. The (2006)'\"\n",
    "indices = kn_clf.kneighbors(X=[test_set.as_matrix()[498]], n_neighbors=5, return_distance=False)\n",
    "recommended_movies = []\n",
    "for r in indices:\n",
    "    recommended_movies.append(movies.iloc[r].title)\n",
    "print \"recommended movies by KNeighborsClassifier:\\n{}\".format(recommended_movies)"
   ]
  },
  {
   "cell_type": "code",
   "execution_count": null,
   "metadata": {},
   "outputs": [],
   "source": []
  }
 ],
 "metadata": {
  "kernelspec": {
   "display_name": "Python 2",
   "language": "python",
   "name": "python2"
  },
  "language_info": {
   "codemirror_mode": {
    "name": "ipython",
    "version": 2
   },
   "file_extension": ".py",
   "mimetype": "text/x-python",
   "name": "python",
   "nbconvert_exporter": "python",
   "pygments_lexer": "ipython2",
   "version": "2.7.10"
  }
 },
 "nbformat": 4,
 "nbformat_minor": 2
}
